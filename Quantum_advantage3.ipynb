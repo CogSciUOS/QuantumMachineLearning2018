{
 "cells": [
  {
   "cell_type": "markdown",
   "metadata": {},
   "source": [
    "# Plotting Quantum Advantage for different classes of Algorithms"
   ]
  },
  {
   "cell_type": "code",
   "execution_count": 1,
   "metadata": {},
   "outputs": [],
   "source": [
    "import matplotlib.pylab as pl\n",
    "from mpl_toolkits.mplot3d import Axes3D\n",
    "import numpy as np"
   ]
  },
  {
   "cell_type": "markdown",
   "metadata": {},
   "source": [
    "Importing the requisite Libraries for plotting."
   ]
  },
  {
   "cell_type": "code",
   "execution_count": 9,
   "metadata": {},
   "outputs": [],
   "source": [
    "#initialize the N axis\n",
    "N = np.linspace(2,1000, 1000)\n",
    "\n",
    "quantum_comp = []\n",
    "classical_comp = []"
   ]
  },
  {
   "cell_type": "markdown",
   "metadata": {},
   "source": [
    "We then initialize the N axis for natural numbers from 1 to 10000.\n",
    "\n",
    "'quantum_comp' and 'classical_comp' are lists storing lists of values evaluated for the respective complexity functions for\n",
    "a given class of algorithms.\n",
    "\n",
    "Here, we depict the following classes:\n",
    "    1. Prime Factorization\n",
    "    2. Unstructured Search\n",
    "    3. Verifying Matrix Products\n",
    "    4. Formula Evaluation\n",
    "    5. Abelian Hidden Subgroup\n",
    "    6. Subset sum\n",
    "    7. Matrix Multiplication over Semirings"
   ]
  },
  {
   "cell_type": "markdown",
   "metadata": {},
   "source": [
    "1 For Prime Factorization:\n",
    "    1. Complexity order of Classical Algorithm: 2^((log N)(log(log N))\n",
    "    2. Complexity order of Quantum Algorithm: N^3"
   ]
  },
  {
   "cell_type": "code",
   "execution_count": 10,
   "metadata": {
    "scrolled": true
   },
   "outputs": [],
   "source": [
    "#1prime factorization\n",
    "classical_comp.append([2**((np.log(n))*(np.log(np.log(n)))) for n in N])\n",
    "quantum_comp.append([n**3 for n in N])"
   ]
  },
  {
   "cell_type": "markdown",
   "metadata": {},
   "source": [
    "2 For Unstructured Search:\n",
    "    1. Complexity order of Classical Algorithm: 2^n\n",
    "    2. Complexity order of Quantum Algorithm: 2^(n/2)"
   ]
  },
  {
   "cell_type": "code",
   "execution_count": 14,
   "metadata": {},
   "outputs": [],
   "source": [
    "#2 unstructured search\n",
    "quantum_comp.append([2**n for n in N])\n",
    "classical_comp.append([2**(n/2) for n in N]) "
   ]
  },
  {
   "cell_type": "markdown",
   "metadata": {},
   "source": [
    "3 For Formula Evaluation:\n",
    "\n",
    "1. Complexity order of Classical Algorithm: n^2\n",
    "2. Complexity order of Quantum Algorithm: n^7/4"
   ]
  },
  {
   "cell_type": "code",
   "execution_count": 1,
   "metadata": {},
   "outputs": [
    {
     "ename": "NameError",
     "evalue": "name 'quantum_comp' is not defined",
     "output_type": "error",
     "traceback": [
      "\u001b[0;31m---------------------------------------------------------------------------\u001b[0m",
      "\u001b[0;31mNameError\u001b[0m                                 Traceback (most recent call last)",
      "\u001b[0;32m<ipython-input-1-a5395a0b318b>\u001b[0m in \u001b[0;36m<module>\u001b[0;34m()\u001b[0m\n\u001b[1;32m      1\u001b[0m \u001b[0;31m#3.Verifying Matrix Products\u001b[0m\u001b[0;34m\u001b[0m\u001b[0;34m\u001b[0m\u001b[0m\n\u001b[0;32m----> 2\u001b[0;31m \u001b[0mquantum_comp\u001b[0m\u001b[0;34m.\u001b[0m\u001b[0mappend\u001b[0m\u001b[0;34m(\u001b[0m\u001b[0;34m[\u001b[0m\u001b[0mn\u001b[0m\u001b[0;34m**\u001b[0m\u001b[0;36m2\u001b[0m \u001b[0;32mfor\u001b[0m \u001b[0mn\u001b[0m \u001b[0;32min\u001b[0m \u001b[0mN\u001b[0m\u001b[0;34m]\u001b[0m\u001b[0;34m)\u001b[0m\u001b[0;34m\u001b[0m\u001b[0m\n\u001b[0m\u001b[1;32m      3\u001b[0m \u001b[0mclassical_comp\u001b[0m\u001b[0;34m.\u001b[0m\u001b[0mappend\u001b[0m\u001b[0;34m(\u001b[0m\u001b[0;34m[\u001b[0m\u001b[0mn\u001b[0m\u001b[0;34m**\u001b[0m\u001b[0;36m7\u001b[0m\u001b[0;34m/\u001b[0m\u001b[0;36m4\u001b[0m \u001b[0;32mfor\u001b[0m \u001b[0mn\u001b[0m \u001b[0;32min\u001b[0m \u001b[0mN\u001b[0m\u001b[0;34m]\u001b[0m\u001b[0;34m)\u001b[0m\u001b[0;34m\u001b[0m\u001b[0m\n",
      "\u001b[0;31mNameError\u001b[0m: name 'quantum_comp' is not defined"
     ]
    }
   ],
   "source": [
    "#3.Verifying Matrix Products\n",
    "quantum_comp.append([n**2 for n in N])\n",
    "classical_comp.append([n**7/4 for n in N]) "
   ]
  },
  {
   "cell_type": "markdown",
   "metadata": {},
   "source": [
    "4 For Formula Evaluation:\n",
    "    1. Complexity order of Classical Algorithm: 2^0,5n\n",
    "    2. Complexity order of Quantum Algorithm: 2^0.753n"
   ]
  },
  {
   "cell_type": "code",
   "execution_count": 15,
   "metadata": {},
   "outputs": [],
   "source": [
    "#4Formula Evaluation\n",
    "classical_comp.append([2**(0.5*n) for n in N])\n",
    "quantum_comp.append([2**(0.753*n) for n in N])"
   ]
  },
  {
   "cell_type": "markdown",
   "metadata": {},
   "source": [
    "5 For Abelian Hidden Subgroup:\n",
    "    1. Complexity order of Classical Algorithm: log(n)\n",
    "    2. Complexity order of Quantum Algorithm: n"
   ]
  },
  {
   "cell_type": "code",
   "execution_count": 16,
   "metadata": {},
   "outputs": [],
   "source": [
    "#5Abelian Hidden Subgroup\n",
    "classical_comp.append([np.log(n) for n in N])\n",
    "quantum_comp.append([n for n in N])"
   ]
  },
  {
   "cell_type": "markdown",
   "metadata": {},
   "source": [
    "6 For Subset sum:\n",
    "    1. Complexity order of Classical Algorithm: 2^0.291n\n",
    "    2. Complexity order of Quantum Algorithm: 2^0.241n"
   ]
  },
  {
   "cell_type": "code",
   "execution_count": 17,
   "metadata": {},
   "outputs": [],
   "source": [
    "#6Subset sum\n",
    "classical_comp.append([2**(0.291*n) for n in N])\n",
    "quantum_comp.append([2**(0.241*n) for n in N])"
   ]
  },
  {
   "cell_type": "markdown",
   "metadata": {},
   "source": [
    "7 For Matrix multiplication over semirings:\n",
    "    1. Complexity order of Classical Algorithm:n^2.687\n",
    "    2. Complexity order of Quantum Algorithm: n^2.473"
   ]
  },
  {
   "cell_type": "code",
   "execution_count": 18,
   "metadata": {},
   "outputs": [],
   "source": [
    "#7matrix multiplication over semirings\n",
    "classical_comp.append([n**(2.687) for n in N])\n",
    "quantum_comp.append([n**(2.473) for n in N])"
   ]
  }
 ],
 "metadata": {
  "kernelspec": {
   "display_name": "Python 3",
   "language": "python",
   "name": "python3"
  },
  "language_info": {
   "codemirror_mode": {
    "name": "ipython",
    "version": 3
   },
   "file_extension": ".py",
   "mimetype": "text/x-python",
   "name": "python",
   "nbconvert_exporter": "python",
   "pygments_lexer": "ipython3",
   "version": "3.7.0"
  }
 },
 "nbformat": 4,
 "nbformat_minor": 2
}
