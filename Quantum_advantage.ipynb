{
 "cells": [
  {
   "cell_type": "markdown",
   "metadata": {},
   "source": [
    "# Plotting Quantum Advantage for different classes of Algorithms"
   ]
  },
  {
   "cell_type": "code",
   "execution_count": 6,
   "metadata": {},
   "outputs": [],
   "source": [
    "import matplotlib.pylab as pl\n",
    "from mpl_toolkits.mplot3d import Axes3D\n",
    "import numpy as np"
   ]
  },
  {
   "cell_type": "markdown",
   "metadata": {},
   "source": [
    "Importing the requisite Libraries for plotting."
   ]
  },
  {
   "cell_type": "code",
   "execution_count": 11,
   "metadata": {},
   "outputs": [],
   "source": [
    "#initialize the N axis\n",
    "N = np.linspace(2,1000, 1000)\n",
    "\n",
    "quantum_comp = []\n",
    "classical_comp = []"
   ]
  },
  {
   "cell_type": "markdown",
   "metadata": {},
   "source": [
    "We then initialize the N axis for natural numbers from 1 to 10000.\n",
    "\n",
    "'quantum_comp' and 'classical_comp' are lists storing lists of values evaluated for the respective complexity functions for\n",
    "a given class of algorithms.\n",
    "\n",
    "Here, we depict the following classes:\n",
    "    1. Prime Factorization\n",
    "    2. Unstructured Search\n",
    "    3. Verifying Matrix Products\n",
    "    4. Formula Evaluation\n",
    "    5. Abelian Hidden Subgroup\n",
    "    6. Polynomial Interpolation\n",
    "    4. Subset sum\n",
    "    5. Matrix Multiplication over Semirings"
   ]
  },
  {
   "cell_type": "markdown",
   "metadata": {},
   "source": [
    "For Prime Factorization:\n",
    "    1. Complexity order of Classical Algorithm: 2^((log N)(log(log N))\n",
    "    2. Complexity order of Quantum Algorithm: N^3"
   ]
  },
  {
   "cell_type": "code",
   "execution_count": 12,
   "metadata": {},
   "outputs": [],
   "source": [
    "classical_comp.append([2**((np.log(n))*(np.log(np.log(n)))) for n in N])\n",
    "quantum_comp.append([n**3 for n in N])"
   ]
  },
  {
   "cell_type": "code",
   "execution_count": null,
   "metadata": {},
   "outputs": [],
   "source": [
    "quantum_comp.append([2**n for n in N]) #Unstructured Search\n",
    "classical_comp.append([2**(n/2) for n in N]) #Unstructured Search"
   ]
  },
  {
   "cell_type": "code",
   "execution_count": null,
   "metadata": {},
   "outputs": [],
   "source": []
  }
 ],
 "metadata": {
  "kernelspec": {
   "display_name": "Python 3",
   "language": "python",
   "name": "python3"
  },
  "language_info": {
   "codemirror_mode": {
    "name": "ipython",
    "version": 3
   },
   "file_extension": ".py",
   "mimetype": "text/x-python",
   "name": "python",
   "nbconvert_exporter": "python",
   "pygments_lexer": "ipython3",
   "version": "3.6.5"
  }
 },
 "nbformat": 4,
 "nbformat_minor": 2
}
