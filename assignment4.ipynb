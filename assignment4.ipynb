{
 "cells": [
  {
   "cell_type": "markdown",
   "metadata": {},
   "source": [
    "# Universal sets of Quantum Gates\n",
    "## Franziska Brändle, Luan Wei, Turan Orujlu, Tim Brockmeyer\n",
    "### Universität Osnabrück (Oct. 2018)\n",
    "\n",
    "On the universality of sets of quantum gates:\n",
    "Case 1: $H$ & $CNOT$: It should be possible to simulate any classical algorithm using just CNOT and Hadamard Gates. Constraining our computations to these two gates will limit the vector movement to the anti-podal points of the sphere and to the points (1,0,0) and (-1,0,0). \n",
    "Even if we add $X$, $Y$, and $Z$ gates, we won't reach other Points on the Bloch-Sphere as we would always rotate the vector by 180 degrees since none of these make any changes to the phase-angle phi, which stays 0. \n",
    "Our conjecture is that these two gates are equivalent to probabilistic algorithms. \n",
    "\n",
    "Case 2: Hadamard & $CNOT$ & $R(\\phi)$: \n",
    "The addition of the phase shift gate makes the universal set of Quantum gates complete. With the introduction of this gate every point on the Bloch sphere can be reached.\n",
    "\n",
    "We are postulating that computational capacity can be increased by the addition of a new rotation gate $R(\\psi)$ that shifts the angle $\\psi$ of the hypersphere in $R^4$ (3-sphere) from zero to any arbitrary value, but there is no known physical system where this computational advantage can be realized. "
   ]
  }
 ],
 "metadata": {
  "kernelspec": {
   "display_name": "Python 3",
   "language": "python",
   "name": "python3"
  },
  "language_info": {
   "codemirror_mode": {
    "name": "ipython",
    "version": 3
   },
   "file_extension": ".py",
   "mimetype": "text/x-python",
   "name": "python",
   "nbconvert_exporter": "python",
   "pygments_lexer": "ipython3",
   "version": "3.6.5"
  }
 },
 "nbformat": 4,
 "nbformat_minor": 2
}
